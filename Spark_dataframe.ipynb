{
  "nbformat": 4,
  "nbformat_minor": 0,
  "metadata": {
    "colab": {
      "name": "Spark_dataframe.ipynb",
      "provenance": [],
      "collapsed_sections": []
    },
    "kernelspec": {
      "name": "python3",
      "display_name": "Python 3"
    }
  },
  "cells": [
    {
      "cell_type": "code",
      "metadata": {
        "colab": {
          "base_uri": "https://localhost:8080/"
        },
        "id": "oO4fzm-ym9mF",
        "outputId": "b3e251c5-9c05-4b34-fa40-010f85b95a8f"
      },
      "source": [
        "!pip install pyspark"
      ],
      "execution_count": 34,
      "outputs": [
        {
          "output_type": "stream",
          "text": [
            "Requirement already satisfied: pyspark in /usr/local/lib/python3.6/dist-packages (3.0.1)\n",
            "Requirement already satisfied: py4j==0.10.9 in /usr/local/lib/python3.6/dist-packages (from pyspark) (0.10.9)\n"
          ],
          "name": "stdout"
        }
      ]
    },
    {
      "cell_type": "code",
      "metadata": {
        "colab": {
          "base_uri": "https://localhost:8080/"
        },
        "id": "JhAzqSejZygU",
        "outputId": "b05a02ed-390b-4564-cffd-659f4eb07ad8"
      },
      "source": [
        "#Spark Dataframe\r\n",
        "\r\n",
        "from pyspark.sql import *\r\n",
        "from pyspark.shell import spark"
      ],
      "execution_count": 40,
      "outputs": [
        {
          "output_type": "stream",
          "text": [
            "Welcome to\n",
            "      ____              __\n",
            "     / __/__  ___ _____/ /__\n",
            "    _\\ \\/ _ \\/ _ `/ __/  '_/\n",
            "   /__ / .__/\\_,_/_/ /_/\\_\\   version 3.0.1\n",
            "      /_/\n",
            "\n",
            "Using Python version 3.6.9 (default, Oct  8 2020 12:12:24)\n",
            "SparkSession available as 'spark'.\n"
          ],
          "name": "stdout"
        }
      ]
    },
    {
      "cell_type": "code",
      "metadata": {
        "colab": {
          "base_uri": "https://localhost:8080/"
        },
        "id": "dmhjVlABcKQ-",
        "outputId": "e00b5dee-1d8b-4fc3-ba71-5c6e59ac1c16"
      },
      "source": [
        " \r\n",
        "Student = Row(\"firstName\", \"lastName\", \"email\", \"salary\")\r\n",
        " \r\n",
        "Student1 = Student('nguyen', 'quoc', 'quocnguyen@gmail.com', 100000)\r\n",
        "Student2 = Student('bao', 'gia', 'giabao@gmail.com', 120000 )\r\n",
        "Student3 = Student('cuong', None, 'cuong@gmail.com', 140000 )\r\n",
        "Student4 = Student('loi', 'thien', 'thienloi@gmail.com', 160000 )\r\n",
        "Student5 = Student('long', 'thanh', 'thanhlong@gmail.com', 160000 )\r\n",
        " \r\n",
        "print(Student[0])\r\n",
        "print(Student3)\r\n",
        " \r\n"
      ],
      "execution_count": 36,
      "outputs": [
        {
          "output_type": "stream",
          "text": [
            "firstName\n",
            "Row(firstName='cuong', lastName=None, email='cuong@gmail.com', salary=140000)\n"
          ],
          "name": "stdout"
        }
      ]
    },
    {
      "cell_type": "code",
      "metadata": {
        "id": "Y414PpL2cOW1"
      },
      "source": [
        "classes1 = Row(id='123456', name='NLP')\r\n",
        "classes2 = Row(id='789012', name='BI')\r\n",
        "classes3 = Row(id='345678', name='WEB')\r\n",
        "classes4 = Row(id='901234', name='DEV')"
      ],
      "execution_count": 37,
      "outputs": []
    },
    {
      "cell_type": "code",
      "metadata": {
        "id": "gQN87cCLcX49"
      },
      "source": [
        "classesWithStudents1 = Row(classes=classes1, Students=[Student1, Student2, Student5])\r\n",
        "classesWithStudents2 = Row(classes=classes2, Students=[Student3, Student4])\r\n",
        "classesWithStudents3 = Row(classes=classes3, Students=[Student1, Student4, Student3])\r\n",
        "classesWithStudents4 = Row(classes=classes4, Students=[Student2, Student3])"
      ],
      "execution_count": 38,
      "outputs": []
    },
    {
      "cell_type": "code",
      "metadata": {
        "colab": {
          "base_uri": "https://localhost:8080/",
          "height": 151
        },
        "id": "Ekg6ng4QcaKd",
        "outputId": "ac884371-1203-4e54-f9dd-388ff61fcc8b"
      },
      "source": [
        "classesWithStudents_Seq = [classesWithStudents1, classesWithStudents2]\r\n",
        "dframe = spark.createDataFrame(classesWithStudents_Seq)\r\n",
        "display(dframe)\r\n",
        "dframe.show()"
      ],
      "execution_count": 43,
      "outputs": [
        {
          "output_type": "display_data",
          "data": {
            "text/plain": [
              "DataFrame[classes: struct<id:string,name:string>, Students: array<struct<firstName:string,lastName:string,email:string,salary:bigint>>]"
            ]
          },
          "metadata": {
            "tags": []
          }
        },
        {
          "output_type": "stream",
          "text": [
            "+-------------+--------------------+\n",
            "|      classes|            Students|\n",
            "+-------------+--------------------+\n",
            "|[123456, NLP]|[[nguyen, quoc, q...|\n",
            "| [789012, BI]|[[cuong,, cuong@g...|\n",
            "+-------------+--------------------+\n",
            "\n"
          ],
          "name": "stdout"
        }
      ]
    },
    {
      "cell_type": "code",
      "metadata": {
        "id": "j3VSin4gnU4i"
      },
      "source": [
        ""
      ],
      "execution_count": null,
      "outputs": []
    }
  ]
}